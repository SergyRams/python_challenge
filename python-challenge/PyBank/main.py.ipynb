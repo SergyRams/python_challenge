{
 "cells": [
  {
   "cell_type": "code",
   "execution_count": 202,
   "metadata": {},
   "outputs": [],
   "source": [
    "import pandas as pd\n",
    "import socket, os\n",
    "dataframe = pd.read_csv('Resources/budget_data.csv')\n",
    "#print('dataframe')"
   ]
  },
  {
   "cell_type": "code",
   "execution_count": 203,
   "metadata": {},
   "outputs": [
    {
     "data": {
      "text/html": [
       "<div>\n",
       "<style scoped>\n",
       "    .dataframe tbody tr th:only-of-type {\n",
       "        vertical-align: middle;\n",
       "    }\n",
       "\n",
       "    .dataframe tbody tr th {\n",
       "        vertical-align: top;\n",
       "    }\n",
       "\n",
       "    .dataframe thead th {\n",
       "        text-align: right;\n",
       "    }\n",
       "</style>\n",
       "<table border=\"1\" class=\"dataframe\">\n",
       "  <thead>\n",
       "    <tr style=\"text-align: right;\">\n",
       "      <th></th>\n",
       "      <th>Date</th>\n",
       "      <th>Profit/Losses</th>\n",
       "    </tr>\n",
       "  </thead>\n",
       "  <tbody>\n",
       "    <tr>\n",
       "      <th>0</th>\n",
       "      <td>Jan-2010</td>\n",
       "      <td>867884</td>\n",
       "    </tr>\n",
       "    <tr>\n",
       "      <th>1</th>\n",
       "      <td>feb-10</td>\n",
       "      <td>984655</td>\n",
       "    </tr>\n",
       "    <tr>\n",
       "      <th>2</th>\n",
       "      <td>mar-10</td>\n",
       "      <td>322013</td>\n",
       "    </tr>\n",
       "    <tr>\n",
       "      <th>3</th>\n",
       "      <td>Apr-2010</td>\n",
       "      <td>-69417</td>\n",
       "    </tr>\n",
       "    <tr>\n",
       "      <th>4</th>\n",
       "      <td>may-10</td>\n",
       "      <td>310503</td>\n",
       "    </tr>\n",
       "    <tr>\n",
       "      <th>...</th>\n",
       "      <td>...</td>\n",
       "      <td>...</td>\n",
       "    </tr>\n",
       "    <tr>\n",
       "      <th>81</th>\n",
       "      <td>oct-16</td>\n",
       "      <td>102685</td>\n",
       "    </tr>\n",
       "    <tr>\n",
       "      <th>82</th>\n",
       "      <td>nov-16</td>\n",
       "      <td>795914</td>\n",
       "    </tr>\n",
       "    <tr>\n",
       "      <th>83</th>\n",
       "      <td>Dec-2016</td>\n",
       "      <td>60988</td>\n",
       "    </tr>\n",
       "    <tr>\n",
       "      <th>84</th>\n",
       "      <td>Jan-2017</td>\n",
       "      <td>138230</td>\n",
       "    </tr>\n",
       "    <tr>\n",
       "      <th>85</th>\n",
       "      <td>feb-17</td>\n",
       "      <td>671099</td>\n",
       "    </tr>\n",
       "  </tbody>\n",
       "</table>\n",
       "<p>86 rows × 2 columns</p>\n",
       "</div>"
      ],
      "text/plain": [
       "        Date  Profit/Losses\n",
       "0   Jan-2010         867884\n",
       "1     feb-10         984655\n",
       "2     mar-10         322013\n",
       "3   Apr-2010         -69417\n",
       "4     may-10         310503\n",
       "..       ...            ...\n",
       "81    oct-16         102685\n",
       "82    nov-16         795914\n",
       "83  Dec-2016          60988\n",
       "84  Jan-2017         138230\n",
       "85    feb-17         671099\n",
       "\n",
       "[86 rows x 2 columns]"
      ]
     },
     "execution_count": 203,
     "metadata": {},
     "output_type": "execute_result"
    }
   ],
   "source": [
    "dataframe"
   ]
  },
  {
   "cell_type": "code",
   "execution_count": 204,
   "metadata": {},
   "outputs": [
    {
     "name": "stdout",
     "output_type": "stream",
     "text": [
      "The list of numbers are [867884, 984655, 322013, -69417, 310503, 522857, 1033096, 604885, -216386, 477532, 893810, -80353, 779806, -335203, 697845, 793163, 485070, 584122, 62729, 668179, 899906, 834719, 132003, 309978, -755566, 1170593, 252788, 1151518, 817256, 570757, 506702, -1022534, 475062, 779976, 144175, 542494, 359333, 321469, 67780, 471435, 565603, 872480, 789480, 999942, -1196225, 268997, -687986, 1150461, 682458, 617856, 824098, 581943, 132864, 448062, 689161, 800701, 1166643, 947333, 578668, 988505, 1139715, 1029471, 687533, -524626, 158620, 87795, 423389, 840723, 568529, 332067, 989499, 778237, 650000, -1100387, -174946, 757143, 445709, 712961, -1163797, 569899, 768450, 102685, 795914, 60988, 138230, 671099]\n"
     ]
    }
   ],
   "source": [
    "dataframe.head(87)\n",
    "Pr_Lo = dataframe['Profit/Losses'].tolist()\n",
    "Date = dataframe['Date'].tolist()\n",
    "print(\"The list of numbers are\", Pr_Lo)\n",
    "#print (\"El conjunto de fechas son\", Date)"
   ]
  },
  {
   "cell_type": "code",
   "execution_count": 205,
   "metadata": {},
   "outputs": [
    {
     "name": "stdout",
     "output_type": "stream",
     "text": [
      "Profits List [867884, 984655, 322013, 310503, 522857, 1033096, 604885, 477532, 893810, 779806, 697845, 793163, 485070, 584122, 62729, 668179, 899906, 834719, 132003, 309978, 1170593, 252788, 1151518, 817256, 570757, 506702, 475062, 779976, 144175, 542494, 359333, 321469, 67780, 471435, 565603, 872480, 789480, 999942, 268997, 1150461, 682458, 617856, 824098, 581943, 132864, 448062, 689161, 800701, 1166643, 947333, 578668, 988505, 1139715, 1029471, 687533, 158620, 87795, 423389, 840723, 568529, 332067, 989499, 778237, 650000, 757143, 445709, 712961, 569899, 768450, 102685, 795914, 60988, 138230, 671099]\n",
      "Losses List [-69417, -216386, -80353, -335203, -755566, -1022534, -1196225, -687986, -524626, -1100387, -174946, -1163797]\n"
     ]
    }
   ],
   "source": [
    "Profits = []\n",
    "Losses = []\n",
    "for x in Pr_Lo:\n",
    "    if (x >= 0):\n",
    "        Profits.append(x)\n",
    "    else:\n",
    "        Losses.append(x)\n",
    "print(\"Profits List\", Profits)\n",
    "print(\"Losses List\", Losses)"
   ]
  },
  {
   "cell_type": "code",
   "execution_count": 206,
   "metadata": {},
   "outputs": [
    {
     "name": "stdout",
     "output_type": "stream",
     "text": [
      "Profits List ['Jan-2010', 'feb-10', 'mar-10', 'Apr-2010', 'may-10', 'jun-10', 'jul-10', 'Aug-2010', 'sep-10', 'oct-10', 'nov-10', 'Dec-2010', 'Jan-2011', 'feb-11', 'mar-11', 'Apr-2011', 'may-11', 'jun-11', 'jul-11', 'Aug-2011', 'sep-11', 'oct-11', 'nov-11', 'Dec-2011', 'Jan-2012', 'feb-12', 'mar-12', 'Apr-2012', 'may-12', 'jun-12', 'jul-12', 'Aug-2012', 'sep-12', 'oct-12', 'nov-12', 'Dec-2012', 'Jan-2013', 'feb-13', 'mar-13', 'Apr-2013', 'may-13', 'jun-13', 'jul-13', 'Aug-2013', 'sep-13', 'oct-13', 'nov-13', 'Dec-2013', 'Jan-2014', 'feb-14', 'mar-14', 'Apr-2014', 'may-14', 'jun-14', 'jul-14', 'Aug-2014', 'sep-14', 'oct-14', 'nov-14', 'Dec-2014', 'Jan-2015', 'feb-15', 'mar-15', 'Apr-2015', 'may-15', 'jun-15', 'jul-15', 'Aug-2015', 'sep-15', 'oct-15', 'nov-15', 'Dec-2015', 'Jan-2016', 'feb-16', 'mar-16', 'Apr-2016', 'may-16', 'jun-16', 'jul-16', 'Aug-2016', 'sep-16', 'oct-16', 'nov-16', 'Dec-2016', 'Jan-2017', 'feb-17', 867884, 984655, 322013, -69417, 310503, 522857, 1033096, 604885, -216386, 477532, 893810, -80353, 779806, -335203, 697845, 793163, 485070, 584122, 62729, 668179, 899906, 834719, 132003, 309978, -755566, 1170593, 252788, 1151518, 817256, 570757, 506702, -1022534, 475062, 779976, 144175, 542494, 359333, 321469, 67780, 471435, 565603, 872480, 789480, 999942, -1196225, 268997, -687986, 1150461, 682458, 617856, 824098, 581943, 132864, 448062, 689161, 800701, 1166643, 947333, 578668, 988505, 1139715, 1029471, 687533, -524626, 158620, 87795, 423389, 840723, 568529, 332067, 989499, 778237, 650000, -1100387, -174946, 757143, 445709, 712961, -1163797, 569899, 768450, 102685, 795914, 60988, 138230, 671099] [867884, 984655, 322013, 310503, 522857, 1033096, 604885, 477532, 893810, 779806, 697845, 793163, 485070, 584122, 62729, 668179, 899906, 834719, 132003, 309978, 1170593, 252788, 1151518, 817256, 570757, 506702, 475062, 779976, 144175, 542494, 359333, 321469, 67780, 471435, 565603, 872480, 789480, 999942, 268997, 1150461, 682458, 617856, 824098, 581943, 132864, 448062, 689161, 800701, 1166643, 947333, 578668, 988505, 1139715, 1029471, 687533, 158620, 87795, 423389, 840723, 568529, 332067, 989499, 778237, 650000, 757143, 445709, 712961, 569899, 768450, 102685, 795914, 60988, 138230, 671099]\n",
      "Losses List ['Jan-2010', 'feb-10', 'mar-10', 'Apr-2010', 'may-10', 'jun-10', 'jul-10', 'Aug-2010', 'sep-10', 'oct-10', 'nov-10', 'Dec-2010', 'Jan-2011', 'feb-11', 'mar-11', 'Apr-2011', 'may-11', 'jun-11', 'jul-11', 'Aug-2011', 'sep-11', 'oct-11', 'nov-11', 'Dec-2011', 'Jan-2012', 'feb-12', 'mar-12', 'Apr-2012', 'may-12', 'jun-12', 'jul-12', 'Aug-2012', 'sep-12', 'oct-12', 'nov-12', 'Dec-2012', 'Jan-2013', 'feb-13', 'mar-13', 'Apr-2013', 'may-13', 'jun-13', 'jul-13', 'Aug-2013', 'sep-13', 'oct-13', 'nov-13', 'Dec-2013', 'Jan-2014', 'feb-14', 'mar-14', 'Apr-2014', 'may-14', 'jun-14', 'jul-14', 'Aug-2014', 'sep-14', 'oct-14', 'nov-14', 'Dec-2014', 'Jan-2015', 'feb-15', 'mar-15', 'Apr-2015', 'may-15', 'jun-15', 'jul-15', 'Aug-2015', 'sep-15', 'oct-15', 'nov-15', 'Dec-2015', 'Jan-2016', 'feb-16', 'mar-16', 'Apr-2016', 'may-16', 'jun-16', 'jul-16', 'Aug-2016', 'sep-16', 'oct-16', 'nov-16', 'Dec-2016', 'Jan-2017', 'feb-17', 867884, 984655, 322013, -69417, 310503, 522857, 1033096, 604885, -216386, 477532, 893810, -80353, 779806, -335203, 697845, 793163, 485070, 584122, 62729, 668179, 899906, 834719, 132003, 309978, -755566, 1170593, 252788, 1151518, 817256, 570757, 506702, -1022534, 475062, 779976, 144175, 542494, 359333, 321469, 67780, 471435, 565603, 872480, 789480, 999942, -1196225, 268997, -687986, 1150461, 682458, 617856, 824098, 581943, 132864, 448062, 689161, 800701, 1166643, 947333, 578668, 988505, 1139715, 1029471, 687533, -524626, 158620, 87795, 423389, 840723, 568529, 332067, 989499, 778237, 650000, -1100387, -174946, 757143, 445709, 712961, -1163797, 569899, 768450, 102685, 795914, 60988, 138230, 671099] [-69417, -216386, -80353, -335203, -755566, -1022534, -1196225, -687986, -524626, -1100387, -174946, -1163797]\n"
     ]
    }
   ],
   "source": [
    "Profits = []\n",
    "Losses = []\n",
    "for x in Pr_Lo:\n",
    "    if (x >= 0):\n",
    "        Date.append(x)\n",
    "        Profits.append(x) \n",
    "    else:\n",
    "        Date.append(x)\n",
    "        Losses.append(x) \n",
    "        \n",
    "print(\"Profits List\", Date,Profits)\n",
    "print(\"Losses List\", Date,Losses)"
   ]
  },
  {
   "cell_type": "code",
   "execution_count": 207,
   "metadata": {},
   "outputs": [
    {
     "data": {
      "text/plain": [
       "['Jan-2010',\n",
       " 'feb-10',\n",
       " 'mar-10',\n",
       " 'Apr-2010',\n",
       " 'may-10',\n",
       " 'jun-10',\n",
       " 'jul-10',\n",
       " 'Aug-2010',\n",
       " 'sep-10',\n",
       " 'oct-10',\n",
       " 'nov-10',\n",
       " 'Dec-2010',\n",
       " 'Jan-2011',\n",
       " 'feb-11',\n",
       " 'mar-11',\n",
       " 'Apr-2011',\n",
       " 'may-11',\n",
       " 'jun-11',\n",
       " 'jul-11',\n",
       " 'Aug-2011',\n",
       " 'sep-11',\n",
       " 'oct-11',\n",
       " 'nov-11',\n",
       " 'Dec-2011',\n",
       " 'Jan-2012',\n",
       " 'feb-12',\n",
       " 'mar-12',\n",
       " 'Apr-2012',\n",
       " 'may-12',\n",
       " 'jun-12',\n",
       " 'jul-12',\n",
       " 'Aug-2012',\n",
       " 'sep-12',\n",
       " 'oct-12',\n",
       " 'nov-12',\n",
       " 'Dec-2012',\n",
       " 'Jan-2013',\n",
       " 'feb-13',\n",
       " 'mar-13',\n",
       " 'Apr-2013',\n",
       " 'may-13',\n",
       " 'jun-13',\n",
       " 'jul-13',\n",
       " 'Aug-2013',\n",
       " 'sep-13',\n",
       " 'oct-13',\n",
       " 'nov-13',\n",
       " 'Dec-2013',\n",
       " 'Jan-2014',\n",
       " 'feb-14',\n",
       " 'mar-14',\n",
       " 'Apr-2014',\n",
       " 'may-14',\n",
       " 'jun-14',\n",
       " 'jul-14',\n",
       " 'Aug-2014',\n",
       " 'sep-14',\n",
       " 'oct-14',\n",
       " 'nov-14',\n",
       " 'Dec-2014',\n",
       " 'Jan-2015',\n",
       " 'feb-15',\n",
       " 'mar-15',\n",
       " 'Apr-2015',\n",
       " 'may-15',\n",
       " 'jun-15',\n",
       " 'jul-15',\n",
       " 'Aug-2015',\n",
       " 'sep-15',\n",
       " 'oct-15',\n",
       " 'nov-15',\n",
       " 'Dec-2015',\n",
       " 'Jan-2016',\n",
       " 'feb-16',\n",
       " 'mar-16',\n",
       " 'Apr-2016',\n",
       " 'may-16',\n",
       " 'jun-16',\n",
       " 'jul-16',\n",
       " 'Aug-2016',\n",
       " 'sep-16',\n",
       " 'oct-16',\n",
       " 'nov-16',\n",
       " 'Dec-2016',\n",
       " 'Jan-2017',\n",
       " 'feb-17',\n",
       " 867884,\n",
       " 984655,\n",
       " 322013,\n",
       " -69417,\n",
       " 310503,\n",
       " 522857,\n",
       " 1033096,\n",
       " 604885,\n",
       " -216386,\n",
       " 477532,\n",
       " 893810,\n",
       " -80353,\n",
       " 779806,\n",
       " -335203,\n",
       " 697845,\n",
       " 793163,\n",
       " 485070,\n",
       " 584122,\n",
       " 62729,\n",
       " 668179,\n",
       " 899906,\n",
       " 834719,\n",
       " 132003,\n",
       " 309978,\n",
       " -755566,\n",
       " 1170593,\n",
       " 252788,\n",
       " 1151518,\n",
       " 817256,\n",
       " 570757,\n",
       " 506702,\n",
       " -1022534,\n",
       " 475062,\n",
       " 779976,\n",
       " 144175,\n",
       " 542494,\n",
       " 359333,\n",
       " 321469,\n",
       " 67780,\n",
       " 471435,\n",
       " 565603,\n",
       " 872480,\n",
       " 789480,\n",
       " 999942,\n",
       " -1196225,\n",
       " 268997,\n",
       " -687986,\n",
       " 1150461,\n",
       " 682458,\n",
       " 617856,\n",
       " 824098,\n",
       " 581943,\n",
       " 132864,\n",
       " 448062,\n",
       " 689161,\n",
       " 800701,\n",
       " 1166643,\n",
       " 947333,\n",
       " 578668,\n",
       " 988505,\n",
       " 1139715,\n",
       " 1029471,\n",
       " 687533,\n",
       " -524626,\n",
       " 158620,\n",
       " 87795,\n",
       " 423389,\n",
       " 840723,\n",
       " 568529,\n",
       " 332067,\n",
       " 989499,\n",
       " 778237,\n",
       " 650000,\n",
       " -1100387,\n",
       " -174946,\n",
       " 757143,\n",
       " 445709,\n",
       " 712961,\n",
       " -1163797,\n",
       " 569899,\n",
       " 768450,\n",
       " 102685,\n",
       " 795914,\n",
       " 60988,\n",
       " 138230,\n",
       " 671099,\n",
       " 867884,\n",
       " 984655,\n",
       " 322013,\n",
       " 310503,\n",
       " 522857,\n",
       " 1033096,\n",
       " 604885,\n",
       " 477532,\n",
       " 893810,\n",
       " 779806,\n",
       " 697845,\n",
       " 793163,\n",
       " 485070,\n",
       " 584122,\n",
       " 62729,\n",
       " 668179,\n",
       " 899906,\n",
       " 834719,\n",
       " 132003,\n",
       " 309978,\n",
       " 1170593,\n",
       " 252788,\n",
       " 1151518,\n",
       " 817256,\n",
       " 570757,\n",
       " 506702,\n",
       " 475062,\n",
       " 779976,\n",
       " 144175,\n",
       " 542494,\n",
       " 359333,\n",
       " 321469,\n",
       " 67780,\n",
       " 471435,\n",
       " 565603,\n",
       " 872480,\n",
       " 789480,\n",
       " 999942,\n",
       " 268997,\n",
       " 1150461,\n",
       " 682458,\n",
       " 617856,\n",
       " 824098,\n",
       " 581943,\n",
       " 132864,\n",
       " 448062,\n",
       " 689161,\n",
       " 800701,\n",
       " 1166643,\n",
       " 947333,\n",
       " 578668,\n",
       " 988505,\n",
       " 1139715,\n",
       " 1029471,\n",
       " 687533,\n",
       " 158620,\n",
       " 87795,\n",
       " 423389,\n",
       " 840723,\n",
       " 568529,\n",
       " 332067,\n",
       " 989499,\n",
       " 778237,\n",
       " 650000,\n",
       " 757143,\n",
       " 445709,\n",
       " 712961,\n",
       " 569899,\n",
       " 768450,\n",
       " 102685,\n",
       " 795914,\n",
       " 60988,\n",
       " 138230,\n",
       " 671099]"
      ]
     },
     "execution_count": 207,
     "metadata": {},
     "output_type": "execute_result"
    }
   ],
   "source": [
    "#Date + Profits\n",
    "Date.extend(Profits)\n",
    "Date"
   ]
  },
  {
   "cell_type": "code",
   "execution_count": 208,
   "metadata": {},
   "outputs": [
    {
     "name": "stdout",
     "output_type": "stream",
     "text": [
      "(-69417, -216386, -80353, -335203, -755566, -1022534, -1196225, -687986, -524626, -1100387, -174946, -1163797)\n"
     ]
    }
   ],
   "source": [
    "import sys\n",
    "#type(Profits)\n",
    "TProfits = tuple(Profits)\n",
    "TLosses = tuple(Losses)\n",
    "#print(TProfits[0:86])\n",
    "print(TLosses[0:86])\n",
    "#TProfits\n",
    "#pd.DataFrame(column = Losses)\n",
    "#pd.DataFrame(column=Profits)"
   ]
  },
  {
   "cell_type": "code",
   "execution_count": 209,
   "metadata": {},
   "outputs": [
    {
     "name": "stdout",
     "output_type": "stream",
     "text": [
      "Empty DataFrame\n",
      "Columns: [-69417, -216386, -80353, -335203, -755566, -1022534, -1196225, -687986, -524626, -1100387, -174946, -1163797]\n",
      "Index: []\n"
     ]
    }
   ],
   "source": [
    "#print (TProfits)\n",
    "#print(\"Average in changes Profits and Losses \"+str(TProfits.mean()))\n",
    "#DFTProfits = pd.DataFrame(columns = TProfits)\n",
    "DFTLosses = pd.DataFrame(columns = TLosses)\n",
    "print (DFTLosses)"
   ]
  },
  {
   "cell_type": "code",
   "execution_count": 210,
   "metadata": {},
   "outputs": [],
   "source": [
    "sort_by_cols_Budget = dataframe.sort_values(by = ['Profit/Losses'],ascending=False)\n",
    "sum_ProfiLoss = dataframe['Profit/Losses'].sum()\n"
   ]
  },
  {
   "cell_type": "code",
   "execution_count": 211,
   "metadata": {},
   "outputs": [
    {
     "data": {
      "text/plain": [
       "(86, 2)"
      ]
     },
     "execution_count": 211,
     "metadata": {},
     "output_type": "execute_result"
    }
   ],
   "source": [
    "dataframe.shape"
   ]
  },
  {
   "cell_type": "code",
   "execution_count": 212,
   "metadata": {},
   "outputs": [
    {
     "name": "stdout",
     "output_type": "stream",
     "text": [
      "['Date']\n",
      "['Date', 'Profit/Losses']\n"
     ]
    }
   ],
   "source": [
    "budget_losses = []\n",
    "for n in dataframe:\n",
    "    budget_losses.append(n)\n",
    "    print(budget_losses)"
   ]
  },
  {
   "cell_type": "code",
   "execution_count": 214,
   "metadata": {},
   "outputs": [
    {
     "name": "stdout",
     "output_type": "stream",
     "text": [
      "['Date', 'Profit/Losses']\n"
     ]
    }
   ],
   "source": [
    "budget_losses = [n for n in dataframe]\n",
    "print (budget_losses)"
   ]
  },
  {
   "cell_type": "code",
   "execution_count": 215,
   "metadata": {},
   "outputs": [
    {
     "name": "stdout",
     "output_type": "stream",
     "text": [
      "Date 0     Jan-2010\n",
      "1       feb-10\n",
      "2       mar-10\n",
      "3     Apr-2010\n",
      "4       may-10\n",
      "        ...   \n",
      "81      oct-16\n",
      "82      nov-16\n",
      "83    Dec-2016\n",
      "84    Jan-2017\n",
      "85      feb-17\n",
      "Name: Date, Length: 86, dtype: object\n",
      "Profit/Losses 0     867884\n",
      "1     984655\n",
      "2     322013\n",
      "3     -69417\n",
      "4     310503\n",
      "       ...  \n",
      "81    102685\n",
      "82    795914\n",
      "83     60988\n",
      "84    138230\n",
      "85    671099\n",
      "Name: Profit/Losses, Length: 86, dtype: int64\n"
     ]
    }
   ],
   "source": [
    "for key,value in dataframe.iteritems(): \n",
    "    print(key,value)"
   ]
  },
  {
   "cell_type": "code",
   "execution_count": 216,
   "metadata": {},
   "outputs": [
    {
     "name": "stdout",
     "output_type": "stream",
     "text": [
      "Date               sep-13\n",
      "Profit/Losses    -1196225\n",
      "Name: 44, dtype: object\n"
     ]
    }
   ],
   "source": [
    "print (dataframe.loc[44, :])"
   ]
  },
  {
   "cell_type": "code",
   "execution_count": 217,
   "metadata": {},
   "outputs": [],
   "source": [
    "#budget_Losses = []\n",
    "#if dataframe['Profit/Losses'] < 0\n",
    "#    budget_Losses.append()"
   ]
  },
  {
   "cell_type": "code",
   "execution_count": 218,
   "metadata": {},
   "outputs": [],
   "source": [
    "#budget_bulleans = []\n",
    "#for lenght in dataframe.Profit/Losses:\n",
    "#    if lenght < 0 :\n",
    "#        budget_bulleans.append(True)\n",
    "#    else:\n",
    "#        budget_bulleans.append(False)"
   ]
  },
  {
   "cell_type": "code",
   "execution_count": 219,
   "metadata": {},
   "outputs": [
    {
     "name": "stdout",
     "output_type": "stream",
     "text": [
      "Budget Data Analysis\n",
      "Total of Months 86\n",
      "Total Amounts of Profits and Losses during the entire period $ 38382578\n",
      "Average in changes Profits and Losses Amount $ 446309.0465116279\n",
      "Greatest Increase in Profits Date              feb-12\n",
      "Profit/Losses    1170593\n",
      "Name: 25, dtype: object\n",
      "Greatest Decrease in Profits Date               sep-13\n",
      "Profit/Losses    -1196225\n",
      "Name: 44, dtype: object\n"
     ]
    }
   ],
   "source": [
    "import matplotlib.pyplot as plt\n",
    "%matplotlib inline\n",
    "print(\"Budget Data Analysis\")\n",
    "\n",
    "\n",
    "print(\"Total of Months \"+str(dataframe['Date'].count()))\n",
    "print(\"Total Amounts of Profits and Losses during the entire period $\",sum_ProfiLoss)\n",
    "#print(\"Average in changes Profits and Losses / Date \"+str(dataframe['Date','Amount'].max()))\n",
    "#print(\"Average in changes Profits and Losses\"+str(dataframe['Amount'].max()))\n",
    "##\"Average in changes Profits and Losses / Date \"+str(dataframe['Amount'].max()))\n",
    "#print(\"Average in changes Date \"+str(dataframe['Profit/Losses'].mean()))\n",
    "#print(\"Average in changes Profits and Losses / Amount  \"+str(dataframe['Profit/Losses'].mean()))\n",
    "print(\"Average in changes Profits and Losses Amount $ \"+str(dataframe['Profit/Losses'].mean()))\n",
    "#print(\"The net total amount of \"Profit/Losses\" over the entire period \"+str(dataframe['Profit/Losses'].sum()))\n",
    "\n",
    "#print(\"Greatest Increase in Profits\"+str(dataframe['Date'].max()))\n",
    "print(\"Greatest Increase in Profits \"+str(dataframe.loc[25,:]))\n",
    "#print(\"Greatest Increase in Profits / Amount $\"+str(dataframe['Profit/Losses'].max()))\n",
    "#var = dataframe['Date'].extend(dataframe['Profit/Losses'])\n",
    "print(\"Greatest Decrease in Profits \"+str(dataframe.loc[44, :]))\n",
    "\n",
    "#print(\"Greatest Decrease in Profits / Date \"+str(dataframe['Date'].min()))\n",
    "                                            #+str(dataframe['Profit/Losses'].min()))\n",
    "#print(\"Greatest Decrease in Profits / Date \"+str(var.min()))\n",
    "#print(\"Greatest Decrease in Profits / Amount $\"+str(dataframe['Profit/Losses'].min()))\n",
    "#print(var)\n",
    "#dataframe.loc[26,26]"
   ]
  },
  {
   "cell_type": "code",
   "execution_count": null,
   "metadata": {},
   "outputs": [],
   "source": []
  }
 ],
 "metadata": {
  "kernelspec": {
   "display_name": "Python 3",
   "language": "python",
   "name": "python3"
  },
  "language_info": {
   "codemirror_mode": {
    "name": "ipython",
    "version": 3
   },
   "file_extension": ".py",
   "mimetype": "text/x-python",
   "name": "python",
   "nbconvert_exporter": "python",
   "pygments_lexer": "ipython3",
   "version": "3.7.6"
  }
 },
 "nbformat": 4,
 "nbformat_minor": 4
}
